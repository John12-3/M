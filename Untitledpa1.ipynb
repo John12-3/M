{
  "nbformat": 4,
  "nbformat_minor": 0,
  "metadata": {
    "colab": {
      "provenance": []
    },
    "kernelspec": {
      "name": "python3",
      "display_name": "Python 3"
    },
    "language_info": {
      "name": "python"
    }
  },
  "cells": [
    {
      "cell_type": "code",
      "execution_count": null,
      "metadata": {
        "id": "kcVseGwtli69"
      },
      "outputs": [],
      "source": [
        "def getMean(num):\n",
        "  if len(num) == 0:\n",
        "    return 0\n",
        "  else:\n",
        "    cur_sum = 0\n",
        "    for i in num:\n",
        "      cur_sum = cur_sum+i\n",
        "    return cur_sum/len(num)"
      ]
    },
    {
      "cell_type": "code",
      "source": [
        "def getMode(num):\n",
        "  # we will use a tuple\n",
        "  max_count = (0,0)\n",
        "  # max_count[0] -> will give the total occurence of the specific number\n",
        "  # max_count[1] -> will five the number itself\n",
        "  for i in num:\n",
        "    occurences = num.count(i)\n",
        "    if occurences > max_count[0]:\n",
        "      max_count = (occurences,i)\n",
        "  return max_count[1]\n"
      ],
      "metadata": {
        "id": "bkiDSGihmMEe"
      },
      "execution_count": null,
      "outputs": []
    },
    {
      "cell_type": "code",
      "source": [
        "def GetMedian(num):\n",
        "  # we need to first sort the list of numbers\n",
        "  num.sort()\n",
        "\n",
        "  if len(num) % 2 != 0:\n",
        "    middle_index = int((len(num)-1)/2)\n",
        "    return num[middle_index]\n",
        "  else :\n",
        "    middle_index_1 = int((len(num)/2))\n",
        "    middle_index_2 = int((len(num)/2) - 1)\n",
        "    return int(getMean([num[middle_index_1],num[middle_index_2]]))\n"
      ],
      "metadata": {
        "id": "BTzAw_zpnGlr"
      },
      "execution_count": null,
      "outputs": []
    },
    {
      "cell_type": "code",
      "source": [
        "def getstandardDeviation(num):\n",
        "  if len(num) == 0:\n",
        "    return 0\n",
        "  else:\n",
        "    mean = getMean(num)\n",
        "    std_dev = 0\n",
        "    for i in num:\n",
        "      std_dev += (i - mean)**2\n",
        "    return (std_dev/len(num))**0.5"
      ],
      "metadata": {
        "id": "NucPLcqToCBK"
      },
      "execution_count": null,
      "outputs": []
    },
    {
      "cell_type": "code",
      "source": [
        "def Variance(num):\n",
        "  return getstandardDeviation(num)**2"
      ],
      "metadata": {
        "id": "K6gsFeYEoWrN"
      },
      "execution_count": null,
      "outputs": []
    },
    {
      "cell_type": "code",
      "source": [
        "def getStandardization(num):\n",
        "  st = 0\n",
        "  mean = getMean(num)\n",
        "  st_dev = getstandardDeviation(num)\n",
        "  for i in num:\n",
        "    st += i - mean\n",
        "  return st/st_dev"
      ],
      "metadata": {
        "id": "eEVqjNiboqt8"
      },
      "execution_count": null,
      "outputs": []
    },
    {
      "cell_type": "code",
      "source": [
        "def minmaxstandardization(num):\n",
        "  result = 0\n",
        "  if len(num) == 0:\n",
        "    return result\n",
        "  else:\n",
        "    min_val = min(num)\n",
        "    max_val = max(num)\n",
        "    for i in num:\n",
        "      result = ((i-min_val)/(max_val - min_val))\n",
        "    return result"
      ],
      "metadata": {
        "id": "afIlVKglpObK"
      },
      "execution_count": null,
      "outputs": []
    },
    {
      "cell_type": "code",
      "source": [
        "``"
      ],
      "metadata": {
        "id": "Q4MDp2Stpp-C"
      },
      "execution_count": null,
      "outputs": []
    }
  ]
}